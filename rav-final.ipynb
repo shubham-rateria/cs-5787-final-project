{
  "cells": [
    {
      "cell_type": "code",
      "execution_count": 2,
      "metadata": {
        "colab": {
          "base_uri": "https://localhost:8080/"
        },
        "id": "iSaOvLOxbvqk",
        "outputId": "99f2098d-29ce-4e64-9122-8ad13f5baec8"
      },
      "outputs": [
        {
          "name": "stdout",
          "output_type": "stream",
          "text": [
            "Drive already mounted at /content/drive; to attempt to forcibly remount, call drive.mount(\"/content/drive\", force_remount=True).\n"
          ]
        }
      ],
      "source": [
        "# prompt: mount drive\n",
        "\n",
        "from google.colab import drive\n",
        "drive.mount('/content/drive')"
      ]
    },
    {
      "cell_type": "code",
      "execution_count": 3,
      "metadata": {
        "colab": {
          "base_uri": "https://localhost:8080/"
        },
        "id": "vK9wS3eFb7s2",
        "outputId": "29e0bbd3-d582-4cfc-b443-7e117fdc7a33"
      },
      "outputs": [
        {
          "name": "stdout",
          "output_type": "stream",
          "text": [
            "Requirement already satisfied: omegaconf in /usr/local/lib/python3.10/dist-packages (2.3.0)\n",
            "Requirement already satisfied: antlr4-python3-runtime==4.9.* in /usr/local/lib/python3.10/dist-packages (from omegaconf) (4.9.3)\n",
            "Requirement already satisfied: PyYAML>=5.1.0 in /usr/local/lib/python3.10/dist-packages (from omegaconf) (6.0.2)\n",
            "Requirement already satisfied: lightning in /usr/local/lib/python3.10/dist-packages (2.4.0)\n",
            "Requirement already satisfied: PyYAML<8.0,>=5.4 in /usr/local/lib/python3.10/dist-packages (from lightning) (6.0.2)\n",
            "Requirement already satisfied: fsspec<2026.0,>=2022.5.0 in /usr/local/lib/python3.10/dist-packages (from fsspec[http]<2026.0,>=2022.5.0->lightning) (2024.10.0)\n",
            "Requirement already satisfied: lightning-utilities<2.0,>=0.10.0 in /usr/local/lib/python3.10/dist-packages (from lightning) (0.11.9)\n",
            "Requirement already satisfied: packaging<25.0,>=20.0 in /usr/local/lib/python3.10/dist-packages (from lightning) (24.2)\n",
            "Requirement already satisfied: torch<4.0,>=2.1.0 in /usr/local/lib/python3.10/dist-packages (from lightning) (2.5.1+cu121)\n",
            "Requirement already satisfied: torchmetrics<3.0,>=0.7.0 in /usr/local/lib/python3.10/dist-packages (from lightning) (1.6.0)\n",
            "Requirement already satisfied: tqdm<6.0,>=4.57.0 in /usr/local/lib/python3.10/dist-packages (from lightning) (4.66.6)\n",
            "Requirement already satisfied: typing-extensions<6.0,>=4.4.0 in /usr/local/lib/python3.10/dist-packages (from lightning) (4.12.2)\n",
            "Requirement already satisfied: pytorch-lightning in /usr/local/lib/python3.10/dist-packages (from lightning) (2.4.0)\n",
            "Requirement already satisfied: aiohttp!=4.0.0a0,!=4.0.0a1 in /usr/local/lib/python3.10/dist-packages (from fsspec[http]<2026.0,>=2022.5.0->lightning) (3.11.10)\n",
            "Requirement already satisfied: setuptools in /usr/local/lib/python3.10/dist-packages (from lightning-utilities<2.0,>=0.10.0->lightning) (75.1.0)\n",
            "Requirement already satisfied: filelock in /usr/local/lib/python3.10/dist-packages (from torch<4.0,>=2.1.0->lightning) (3.16.1)\n",
            "Requirement already satisfied: networkx in /usr/local/lib/python3.10/dist-packages (from torch<4.0,>=2.1.0->lightning) (3.4.2)\n",
            "Requirement already satisfied: jinja2 in /usr/local/lib/python3.10/dist-packages (from torch<4.0,>=2.1.0->lightning) (3.1.4)\n",
            "Requirement already satisfied: sympy==1.13.1 in /usr/local/lib/python3.10/dist-packages (from torch<4.0,>=2.1.0->lightning) (1.13.1)\n",
            "Requirement already satisfied: mpmath<1.4,>=1.1.0 in /usr/local/lib/python3.10/dist-packages (from sympy==1.13.1->torch<4.0,>=2.1.0->lightning) (1.3.0)\n",
            "Requirement already satisfied: numpy>1.20.0 in /usr/local/lib/python3.10/dist-packages (from torchmetrics<3.0,>=0.7.0->lightning) (1.26.4)\n",
            "Requirement already satisfied: aiohappyeyeballs>=2.3.0 in /usr/local/lib/python3.10/dist-packages (from aiohttp!=4.0.0a0,!=4.0.0a1->fsspec[http]<2026.0,>=2022.5.0->lightning) (2.4.4)\n",
            "Requirement already satisfied: aiosignal>=1.1.2 in /usr/local/lib/python3.10/dist-packages (from aiohttp!=4.0.0a0,!=4.0.0a1->fsspec[http]<2026.0,>=2022.5.0->lightning) (1.3.1)\n",
            "Requirement already satisfied: async-timeout<6.0,>=4.0 in /usr/local/lib/python3.10/dist-packages (from aiohttp!=4.0.0a0,!=4.0.0a1->fsspec[http]<2026.0,>=2022.5.0->lightning) (4.0.3)\n",
            "Requirement already satisfied: attrs>=17.3.0 in /usr/local/lib/python3.10/dist-packages (from aiohttp!=4.0.0a0,!=4.0.0a1->fsspec[http]<2026.0,>=2022.5.0->lightning) (24.2.0)\n",
            "Requirement already satisfied: frozenlist>=1.1.1 in /usr/local/lib/python3.10/dist-packages (from aiohttp!=4.0.0a0,!=4.0.0a1->fsspec[http]<2026.0,>=2022.5.0->lightning) (1.5.0)\n",
            "Requirement already satisfied: multidict<7.0,>=4.5 in /usr/local/lib/python3.10/dist-packages (from aiohttp!=4.0.0a0,!=4.0.0a1->fsspec[http]<2026.0,>=2022.5.0->lightning) (6.1.0)\n",
            "Requirement already satisfied: propcache>=0.2.0 in /usr/local/lib/python3.10/dist-packages (from aiohttp!=4.0.0a0,!=4.0.0a1->fsspec[http]<2026.0,>=2022.5.0->lightning) (0.2.1)\n",
            "Requirement already satisfied: yarl<2.0,>=1.17.0 in /usr/local/lib/python3.10/dist-packages (from aiohttp!=4.0.0a0,!=4.0.0a1->fsspec[http]<2026.0,>=2022.5.0->lightning) (1.18.3)\n",
            "Requirement already satisfied: MarkupSafe>=2.0 in /usr/local/lib/python3.10/dist-packages (from jinja2->torch<4.0,>=2.1.0->lightning) (3.0.2)\n",
            "Requirement already satisfied: idna>=2.0 in /usr/local/lib/python3.10/dist-packages (from yarl<2.0,>=1.17.0->aiohttp!=4.0.0a0,!=4.0.0a1->fsspec[http]<2026.0,>=2022.5.0->lightning) (3.10)\n"
          ]
        }
      ],
      "source": [
        "!pip install omegaconf\n",
        "!pip install lightning"
      ]
    },
    {
      "cell_type": "code",
      "execution_count": 4,
      "metadata": {
        "id": "H95wIf-e6FFh"
      },
      "outputs": [],
      "source": [
        "from omegaconf import OmegaConf\n",
        "cfg = OmegaConf.load(\"/content/drive/My Drive/cs-5787-final-scripts/config/config.yaml\")"
      ]
    },
    {
      "cell_type": "code",
      "execution_count": 5,
      "metadata": {
        "id": "rKWLOkaM6x4n"
      },
      "outputs": [],
      "source": [
        "import os\n",
        "import sys\n",
        "\n",
        "\n",
        "sys.path.append(\"/content/drive/My Drive/cs-5787-final-scripts/\")\n",
        "os.environ['TOKENIZERS_PARALLELISM'] = 'false'\n"
      ]
    },
    {
      "cell_type": "code",
      "execution_count": 6,
      "metadata": {
        "colab": {
          "base_uri": "https://localhost:8080/"
        },
        "id": "jnqCQ5hK6Eia",
        "outputId": "e3577aa5-b744-450c-9a30-61c361fd46a0"
      },
      "outputs": [
        {
          "name": "stdout",
          "output_type": "stream",
          "text": [
            "Using device cuda\n"
          ]
        }
      ],
      "source": [
        "# import hydra\n",
        "import numpy as np\n",
        "import pandas as pd\n",
        "import pytorch_lightning as pl\n",
        "import torch\n",
        "import torch.nn as nn\n",
        "import torch.nn.functional as F\n",
        "# from omegaconf import DictConfig\n",
        "from sentence_transformers import SentenceTransformer, util\n",
        "from sklearn.metrics import classification_report\n",
        "from torch.utils.data import DataLoader\n",
        "from tqdm import tqdm\n",
        "from pytorch_lightning.callbacks import ModelCheckpoint\n",
        "\n",
        "from src.dataset import CSVDataset\n",
        "from src.multihead_attn import TransformerEncoder\n",
        "from src.utils import remove_duplicate_strings\n",
        "\n",
        "device = \"mps\" if torch.backends.mps.is_available() else \"cuda\" if torch.cuda.is_available() else \"cpu\"\n",
        "print(f\"Using device {device}\")\n",
        "# device = torch.device(\"cpu\")"
      ]
    },
    {
      "cell_type": "code",
      "execution_count": 7,
      "metadata": {
        "id": "FjiW6OYH6Eid"
      },
      "outputs": [],
      "source": [
        "model_name = \"pritamdeka/PubMedBERT-mnli-snli-scinli-stsb\""
      ]
    },
    {
      "cell_type": "code",
      "execution_count": 8,
      "metadata": {
        "id": "B5AhuBpo6Eid"
      },
      "outputs": [],
      "source": [
        "class Retriever(nn.Module):\n",
        "    \"\"\"Given a list of evidences and a claim, this returns the top-k evidences\"\"\"\n",
        "    def __init__(self, evidences=[]):\n",
        "        super().__init__()\n",
        "        self.bi_encoder = SentenceTransformer(model_name, cache_folder=\"../cache\")\n",
        "        # self.bi_encoder.eval()\n",
        "        self.bi_encoder.requires_grad_(False)\n",
        "        self.k = 10\n",
        "        # self.data = pd.read_csv()\n",
        "        self.evidence_pool = evidences\n",
        "        self.evidence_embeddings = self.bi_encoder.encode(evidences, convert_to_tensor=True)\n",
        "\n",
        "    def tokenize_and_embed(self, data):\n",
        "        # data -> [b]\n",
        "        return self.bi_encoder.encode([data], convert_to_tensor=True)\n",
        "\n",
        "    def set_encoder_training(self, mode):\n",
        "        self.bi_encoder.train(mode)\n",
        "\n",
        "    def forward(self, x):\n",
        "        # x -> b, claims\n",
        "        x = self.bi_encoder.encode(x, convert_to_tensor=True)\n",
        "        # scores -> b, num_evidences, each row is the cosine similarity b/w the claim\n",
        "        # and all the evidences\n",
        "\n",
        "        cos_sim = torch.mm(x, self.evidence_embeddings.T)\n",
        "        scores, indices = torch.topk(cos_sim, self.k, dim=1)\n",
        "        evidences = [[self.evidence_pool[i] for i in row] for row in indices]\n",
        "        return scores, indices, evidences"
      ]
    },
    {
      "cell_type": "code",
      "execution_count": 9,
      "metadata": {
        "id": "Arq2h0GJ6Eid"
      },
      "outputs": [],
      "source": [
        "class Ranker(nn.Module):\n",
        "    def __init__(self):\n",
        "        super().__init__()\n",
        "        # self.cross_encoder = AutoModelForSequenceClassification.from_pretrained(cfg.cross_encoder_model_name, cache_dir=\"../cache\")\n",
        "        self.cross_encoder = SentenceTransformer(model_name, cache_folder=\"../cache\")\n",
        "        self.cross_encoder.train(True)\n",
        "        # self.cross_encoder.classifier = nn.Identity()  # remove the last classifier layer\n",
        "        # self.tokenizer = AutoTokenizer.from_pretrained(cfg.cross_encoder_model_name)\n",
        "        hidden_size = 768\n",
        "        self.scorer = nn.Linear(hidden_size, 1)\n",
        "\n",
        "    def forward(self, x, evidence_pool):\n",
        "        # x -> b, claim\n",
        "        # evidence_pool -> list of evidence strings\n",
        "        # create claim embedding pair\n",
        "        embeddings = []\n",
        "\n",
        "        for i, claim in enumerate(x):\n",
        "            evidences = evidence_pool[i]\n",
        "            claim_pairs = [\"CLS\"] + [f\"[CLS] {claim} [SEP] {evidence} [SEP]\" for evidence in evidences]\n",
        "            encoded = self.cross_encoder.encode(claim_pairs, convert_to_tensor=True)\n",
        "            embeddings.append(encoded)\n",
        "        # Convert list of tensors to a single tensor\n",
        "        embeddings_tensor = torch.stack(embeddings)\n",
        "        # print(f\"{type(embeddings_tensor)}\")\n",
        "        return embeddings_tensor"
      ]
    },
    {
      "cell_type": "code",
      "execution_count": 10,
      "metadata": {
        "id": "gru8oKrw6Eie"
      },
      "outputs": [],
      "source": [
        "class Classifier(nn.Module):\n",
        "    def __init__(self, input_dim, out_classes=3):\n",
        "        super().__init__()\n",
        "        self.mlp = nn.Sequential(\n",
        "            nn.Linear(input_dim, 128),\n",
        "            nn.ReLU(),\n",
        "            nn.Linear(128, out_classes)\n",
        "        )\n",
        "    def forward(self, x):\n",
        "        # x = torch.mean(x, dim=1)\n",
        "        # print(f\"classifier after mean {x.shape}\")\n",
        "        x = self.mlp(x)\n",
        "        # print(\"classifier\", x, x.shape)\n",
        "        return x, F.softmax(x, dim=-1)"
      ]
    },
    {
      "cell_type": "code",
      "execution_count": 11,
      "metadata": {
        "id": "3qL-S-gQ6Eie"
      },
      "outputs": [],
      "source": [
        "# batch_size = 128\n",
        "# num_workers = 11\n",
        "\n",
        "base_path = \"/content/drive/My Drive/cs-5787-final-scripts/\"\n",
        "\n",
        "base_file = os.path.join(base_path, \"csv/generated_claim_triplets_with_topics.csv\")\n",
        "df = pd.read_csv(base_file)\n",
        "\n",
        "df = df[df['Evidence'] != \"Agent stopped due to iteration limit or time limit.\"]\n",
        "evidences = remove_duplicate_strings(df['Evidence'].to_list())\n",
        "\n",
        "train_dataset = CSVDataset(file_path=os.path.join(base_path, \"csv/train.csv\"))\n",
        "train_dataloader = DataLoader(train_dataset, batch_size=cfg.batch_size, shuffle=True, num_workers=cfg.num_workers)\n",
        "\n",
        "val_dataset = CSVDataset(file_path=os.path.join(base_path, \"csv/val.csv\"))\n",
        "val_dataloader = DataLoader(val_dataset, batch_size=cfg.batch_size, shuffle=False, num_workers=cfg.num_workers)\n",
        "\n",
        "test_dataset = CSVDataset(file_path=os.path.join(base_path, \"csv/test.csv\"))\n",
        "test_dataloader = DataLoader(test_dataset, batch_size=cfg.batch_size, shuffle=False, num_workers=cfg.num_workers)"
      ]
    },
    {
      "cell_type": "code",
      "execution_count": 12,
      "metadata": {
        "colab": {
          "base_uri": "https://localhost:8080/"
        },
        "id": "ZE7zOBeW6Eie",
        "outputId": "6eea7ce9-6e5a-4764-9b61-c43f85a401cd"
      },
      "outputs": [
        {
          "name": "stderr",
          "output_type": "stream",
          "text": [
            "/usr/local/lib/python3.10/dist-packages/huggingface_hub/utils/_auth.py:94: UserWarning: \n",
            "The secret `HF_TOKEN` does not exist in your Colab secrets.\n",
            "To authenticate with the Hugging Face Hub, create a token in your settings tab (https://huggingface.co/settings/tokens), set it as secret in your Google Colab and restart your session.\n",
            "You will be able to reuse this secret in all of your notebooks.\n",
            "Please note that authentication is recommended but still optional to access public models or datasets.\n",
            "  warnings.warn(\n"
          ]
        }
      ],
      "source": [
        "retriever = Retriever(evidences=evidences)"
      ]
    },
    {
      "cell_type": "code",
      "execution_count": 13,
      "metadata": {
        "id": "G6DGu9r2kI-a"
      },
      "outputs": [],
      "source": [
        "ranker = Ranker()\n",
        "attn = TransformerEncoder(num_layers=4, input_dim=768, num_heads=1, dim_feedforward=128)"
      ]
    },
    {
      "cell_type": "code",
      "execution_count": 14,
      "metadata": {
        "id": "S2bazw136Eie"
      },
      "outputs": [],
      "source": [
        "classifier = Classifier(768)"
      ]
    },
    {
      "cell_type": "code",
      "execution_count": 15,
      "metadata": {
        "id": "5eF_wYe46Eif"
      },
      "outputs": [],
      "source": [
        "# run a forward pass to sanity check the outputs, shapes\n",
        "for batch in train_dataloader:\n",
        "    print(batch)\n",
        "    x, y = batch\n",
        "    # rav = RAV()\n",
        "    # print(rav)\n",
        "    # x = claim, return 10 evidences pertaining to this claim\n",
        "    scores, indices, evidences = retriever(x)\n",
        "    print(scores.shape, indices.shape, len(evidences))\n",
        "    # print(f\"\\n{evidences}\\n\")\n",
        "    # print(\"initial device\", x.device)\n",
        "\n",
        "    # takes claims and evidences -> concats embeddings for claim to each of the 10 evidences for this claim\n",
        "    h = ranker(x, evidences)\n",
        "    h=h.to(\"cpu\")\n",
        "    print(\"ranker\", h.shape, h.device)\n",
        "    enc_out = attn(h)\n",
        "    print(enc_out.shape)\n",
        "    logits, out = classifier(enc_out[:, 0, :])\n",
        "    print(out, out.shape)\n",
        "    loss = nn.CrossEntropyLoss()(logits, y)\n",
        "    print(f\"loss: {loss}\")\n",
        "    break"
      ]
    },
    {
      "cell_type": "code",
      "execution_count": 16,
      "metadata": {
        "id": "PJRR21Pu6Eif"
      },
      "outputs": [],
      "source": [
        "import pytorch_lightning as pl\n",
        "import torch\n",
        "import torch.nn as nn\n",
        "from sklearn.metrics import precision_score, recall_score, accuracy_score\n",
        "\n",
        "class MyLightningModule(pl.LightningModule):\n",
        "    def __init__(self, retriever, ranker, attn, classifier, learning_rate=1e-3):\n",
        "        \"\"\"\n",
        "        Args:\n",
        "            retriever: Module for retrieving evidence.\n",
        "            ranker: Module for ranking evidence.\n",
        "            attn: Attention module.\n",
        "            classifier: Classification module.\n",
        "            learning_rate: Learning rate for the optimizer.\n",
        "        \"\"\"\n",
        "        super().__init__()\n",
        "        self.retriever = retriever\n",
        "        self.ranker = ranker\n",
        "        self.attn = attn\n",
        "        self.classifier = classifier\n",
        "        self.loss_fn = nn.CrossEntropyLoss()\n",
        "        self.learning_rate = learning_rate\n",
        "\n",
        "        # freeze the retriever\n",
        "        for param in self.retriever.parameters():\n",
        "            param.requires_grad = False\n",
        "\n",
        "        self.retriever.eval()\n",
        "\n",
        "        # freeze the ranker\n",
        "        # for param in self.ranker.parameters():\n",
        "        #     param.requires_grad = False\n",
        "\n",
        "        # self.ranker.eval()\n",
        "\n",
        "        self.save_hyperparameters(ignore='retriever')\n",
        "\n",
        "    def forward(self, x):\n",
        "        # Forward pass to process the input\n",
        "        scores, indices, evidences = self.retriever(x)\n",
        "        h = self.ranker(x, evidences)\n",
        "        enc_out = self.attn(h)\n",
        "        logits, out = self.classifier(enc_out)\n",
        "        return out, evidences\n",
        "\n",
        "    def training_step(self, batch, batch_idx):\n",
        "        # Single training step\n",
        "        x, y = batch\n",
        "        scores, indices, evidences = self.retriever(x)\n",
        "        h = self.ranker(x, evidences)\n",
        "        enc_out = self.attn(h)\n",
        "        logits, out = self.classifier(enc_out[:, 0, :])\n",
        "\n",
        "        # Compute loss\n",
        "        loss = self.loss_fn(logits, y)\n",
        "        self.log(\"train_loss\", loss)  # Log the loss for monitoring\n",
        "        return loss\n",
        "\n",
        "    def configure_optimizers(self):\n",
        "        # Optimizer configuration\n",
        "        # return torch.optim.SGD(self.parameters(), lr=self.learning_rate)\n",
        "        return torch.optim.Adam(self.parameters(), lr=self.learning_rate)\n",
        "\n",
        "    def validation_step(self, batch, batch_idx):\n",
        "        # Validation step\n",
        "        x, y = batch\n",
        "        scores, indices, evidences = self.retriever(x)\n",
        "        h = self.ranker(x, evidences)\n",
        "        enc_out = self.attn(h)\n",
        "        logits, out = self.classifier(enc_out[:, 0, :])\n",
        "\n",
        "        # Compute loss\n",
        "        loss = self.loss_fn(logits, y)\n",
        "        self.log(\"val_loss\", loss)  # Log the validation loss\n",
        "\n",
        "        # Compute predictions\n",
        "        preds = torch.argmax(logits, dim=1)\n",
        "\n",
        "        # Convert to CPU for metrics calculation\n",
        "        y_cpu = y.cpu().numpy()\n",
        "        preds_cpu = preds.cpu().numpy()\n",
        "\n",
        "        # Calculate accuracy, precision, and recall\n",
        "        accuracy = accuracy_score(y_cpu, preds_cpu)\n",
        "        precision = precision_score(y_cpu, preds_cpu, average='weighted', zero_division=0)\n",
        "        recall = recall_score(y_cpu, preds_cpu, average='weighted', zero_division=0)\n",
        "\n",
        "        # Log metrics\n",
        "        # self.log(\"val_accuracy\", accuracy, prog_bar=True)\n",
        "        # self.log(\"val_precision\", precision, prog_bar=True)\n",
        "        # self.log(\"val_recall\", recall, prog_bar=True)\n",
        "        # self.log(\"val_loss\", loss, prog_bar=True)\n",
        "        self.log_dict({\"val_accuracy\": accuracy, \"val_precision\": precision, \"val_recall\": recall, \"val_loss\": loss})\n",
        "\n",
        "        res = {\"val_loss\": loss, \"val_accuracy\": accuracy, \"val_precision\": precision, \"val_recall\": recall}\n",
        "        # print(res)\n",
        "        return loss\n"
      ]
    },
    {
      "cell_type": "code",
      "execution_count": 17,
      "metadata": {
        "id": "RTFcyjq96Eif"
      },
      "outputs": [],
      "source": [
        "retriever = Retriever(cfg)\n",
        "ranker = Ranker(cfg)\n",
        "attn = TransformerEncoder(num_layers=4, input_dim=768, num_heads=1, dim_feedforward=128)\n",
        "classifier = Classifier(768)"
      ]
    },
    {
      "cell_type": "code",
      "execution_count": 18,
      "metadata": {
        "id": "OQO7B5Zq6Eif"
      },
      "outputs": [],
      "source": [
        "import wandb\n",
        "from lightning.pytorch.loggers import WandbLogger\n",
        "wandb.init(project=\"rav\")\n",
        "wandb_logger = WandbLogger(project=\"rav\")"
      ]
    },
    {
      "cell_type": "code",
      "execution_count": 19,
      "metadata": {
        "id": "y8WHW23k6Eif"
      },
      "outputs": [],
      "source": [
        "model = MyLightningModule(retriever, ranker, attn, classifier, learning_rate=cfg.lr)"
      ]
    },
    {
      "cell_type": "code",
      "execution_count": 20,
      "metadata": {
        "id": "I31R0eTLMgMM"
      },
      "outputs": [],
      "source": [
        "# Define the ModelCheckpoint callback to save a checkpoint after every epoch\n",
        "checkpoint_callback = ModelCheckpoint(\n",
        "    dirpath=base_path,         # Directory to save checkpoints\n",
        "    filename=\"epoch-{epoch}-ddg\",      # Filename format (e.g., \"epoch-1.ckpt\")\n",
        "    every_n_epochs=1,              # Save after every epoch\n",
        ")"
      ]
    },
    {
      "cell_type": "code",
      "execution_count": 21,
      "metadata": {
        "id": "5cxpU9F_6Eig"
      },
      "outputs": [],
      "source": [
        "trainer = pl.Trainer(max_epochs=10, accelerator=\"gpu\", devices=1, default_root_dir=base_path, log_every_n_steps=1, logger=wandb_logger, callbacks=[checkpoint_callback])"
      ]
    },
    {
      "cell_type": "code",
      "execution_count": 22,
      "metadata": {
        "id": "qKWAxLr06Eig"
      },
      "outputs": [],
      "source": [
        "trainer.fit(model, train_dataloader, val_dataloader)"
      ]
    },
    {
      "cell_type": "markdown",
      "metadata": {
        "id": "bP_6Wd6-tCwd"
      },
      "source": [
        "## Testing & Inference"
      ]
    },
    {
      "cell_type": "code",
      "execution_count": 23,
      "metadata": {
        "colab": {
          "base_uri": "https://localhost:8080/"
        },
        "id": "eHl5Obsnbmq3",
        "outputId": "b0cdf146-feb4-4da1-b99b-234daba4cbf0"
      },
      "outputs": [
        {
          "name": "stderr",
          "output_type": "stream",
          "text": [
            "/usr/local/lib/python3.10/dist-packages/pytorch_lightning/utilities/parsing.py:208: Attribute 'ranker' is an instance of `nn.Module` and is already saved during checkpointing. It is recommended to ignore them using `self.save_hyperparameters(ignore=['ranker'])`.\n",
            "/usr/local/lib/python3.10/dist-packages/pytorch_lightning/utilities/parsing.py:208: Attribute 'attn' is an instance of `nn.Module` and is already saved during checkpointing. It is recommended to ignore them using `self.save_hyperparameters(ignore=['attn'])`.\n",
            "/usr/local/lib/python3.10/dist-packages/pytorch_lightning/utilities/parsing.py:208: Attribute 'classifier' is an instance of `nn.Module` and is already saved during checkpointing. It is recommended to ignore them using `self.save_hyperparameters(ignore=['classifier'])`.\n"
          ]
        }
      ],
      "source": [
        "model = MyLightningModule.load_from_checkpoint(\"/content/drive/My Drive/cs-5787-final-scripts/epoch-epoch=8-ddg.ckpt\", retriever=retriever)"
      ]
    },
    {
      "cell_type": "code",
      "execution_count": 24,
      "metadata": {
        "id": "gGLrz4Mj2t97"
      },
      "outputs": [],
      "source": [
        "import torch\n",
        "from torch.utils.data import DataLoader\n",
        "from sklearn.metrics import classification_report, precision_score, recall_score, accuracy_score\n",
        "\n",
        "def custom_testing_loop(model, test_loader, device):\n",
        "    \"\"\"\n",
        "    Custom testing loop for evaluating the model and printing a classification report.\n",
        "\n",
        "    Args:\n",
        "        model (MyLightningModule): The trained Lightning module.\n",
        "        test_loader (DataLoader): DataLoader for the test dataset.\n",
        "        device (torch.device): The device to run the test on.\n",
        "\n",
        "    Returns:\n",
        "        dict: A dictionary containing test metrics (precision, recall, accuracy, and loss).\n",
        "    \"\"\"\n",
        "    model.eval()\n",
        "    model.to(device)\n",
        "\n",
        "    all_preds = []\n",
        "    all_targets = []\n",
        "    total_loss = 0.0\n",
        "\n",
        "    with torch.no_grad():\n",
        "        for batch in test_loader:\n",
        "            x, y = batch\n",
        "            # x, y = x.to(device), y.to(device)\n",
        "\n",
        "            # Forward pass\n",
        "            scores, indices, evidences = model.retriever(x)\n",
        "            h = model.ranker(x, evidences)\n",
        "            enc_out = model.attn(h)\n",
        "            logits, out = model.classifier(enc_out[:, 0, :])\n",
        "\n",
        "            # Compute loss\n",
        "            loss = model.loss_fn(logits.to(\"cpu\"), y.to(\"cpu\"))\n",
        "            total_loss += loss.item()\n",
        "\n",
        "            # Compute predictions\n",
        "            preds = torch.argmax(logits, dim=1)\n",
        "\n",
        "            # Store predictions and targets for metric calculation\n",
        "            all_preds.append(preds.cpu())\n",
        "            all_targets.append(y.cpu())\n",
        "\n",
        "    # Concatenate all predictions and targets\n",
        "    all_preds = torch.cat(all_preds).numpy()\n",
        "    all_targets = torch.cat(all_targets).numpy()\n",
        "\n",
        "    # Compute metrics\n",
        "    accuracy = accuracy_score(all_targets, all_preds)\n",
        "    precision = precision_score(all_targets, all_preds, average='weighted', zero_division=0)\n",
        "    recall = recall_score(all_targets, all_preds, average='weighted', zero_division=0)\n",
        "    avg_loss = total_loss / len(test_loader)\n",
        "\n",
        "    # Generate and print classification report\n",
        "    target_names = [f\"Class {i}\" for i in range(len(set(all_targets)))]\n",
        "    class_report = classification_report(all_targets, all_preds, target_names=target_names, zero_division=0)\n",
        "    print(\"Classification Report:\")\n",
        "    print(class_report)\n",
        "\n",
        "    # Return results\n",
        "    metrics = {\n",
        "        \"test_loss\": avg_loss,\n",
        "        \"test_accuracy\": accuracy,\n",
        "        \"test_precision\": precision,\n",
        "        \"test_recall\": recall,\n",
        "    }\n",
        "\n",
        "    return metrics"
      ]
    },
    {
      "cell_type": "code",
      "execution_count": 63,
      "metadata": {
        "colab": {
          "base_uri": "https://localhost:8080/"
        },
        "id": "ybfIdSaH238Y",
        "outputId": "638fcc08-67c0-4bfc-d7dd-500dc6d1ac87"
      },
      "outputs": [
        {
          "name": "stdout",
          "output_type": "stream",
          "text": [
            "Classification Report:\n",
            "              precision    recall  f1-score   support\n",
            "\n",
            "     Class 0       0.95      0.92      0.94      1781\n",
            "     Class 1       0.94      0.95      0.94      1781\n",
            "     Class 2       0.97      0.99      0.98      1781\n",
            "\n",
            "    accuracy                           0.95      5343\n",
            "   macro avg       0.95      0.95      0.95      5343\n",
            "weighted avg       0.95      0.95      0.95      5343\n",
            "\n"
          ]
        },
        {
          "data": {
            "text/plain": [
              "{'test_loss': 0.14173173256928012,\n",
              " 'test_accuracy': 0.9522740033688939,\n",
              " 'test_precision': 0.9521615178609821,\n",
              " 'test_recall': 0.9522740033688939}"
            ]
          },
          "execution_count": 63,
          "metadata": {},
          "output_type": "execute_result"
        }
      ],
      "source": [
        "custom_testing_loop(model, test_dataloader, device)"
      ]
    },
    {
      "cell_type": "code",
      "execution_count": 25,
      "metadata": {
        "colab": {
          "base_uri": "https://localhost:8080/"
        },
        "id": "W5b5Fw8nl6-5",
        "outputId": "b826eb67-361f-4dbf-e737-c48415408d21"
      },
      "outputs": [
        {
          "name": "stdout",
          "output_type": "stream",
          "text": [
            "Classification Report:\n",
            "              precision    recall  f1-score   support\n",
            "\n",
            "     Class 0       0.95      0.94      0.95      1603\n",
            "     Class 1       0.95      0.96      0.95      1603\n",
            "     Class 2       0.97      0.98      0.98      1603\n",
            "\n",
            "    accuracy                           0.96      4809\n",
            "   macro avg       0.96      0.96      0.96      4809\n",
            "weighted avg       0.96      0.96      0.96      4809\n",
            "\n"
          ]
        },
        {
          "data": {
            "text/plain": [
              "{'test_loss': 0.14110470602386876,\n",
              " 'test_accuracy': 0.9596589727594095,\n",
              " 'test_precision': 0.9595803762302402,\n",
              " 'test_recall': 0.9596589727594095}"
            ]
          },
          "execution_count": 25,
          "metadata": {},
          "output_type": "execute_result"
        }
      ],
      "source": [
        "custom_testing_loop(model, val_dataloader, device)"
      ]
    },
    {
      "cell_type": "code",
      "execution_count": null,
      "metadata": {
        "id": "mueJV5jo23PK"
      },
      "outputs": [],
      "source": [
        "import torch\n",
        "import torch.nn as nn\n",
        "\n",
        "def get_attention_map(model, claim, retriever, ranker, attn, classifier):\n",
        "    \"\"\"\n",
        "    Function to retrieve the attention map for a given input claim.\n",
        "\n",
        "    Args:\n",
        "        model: The custom loaded model containing all components.\n",
        "        claim (str): The input claim for which attention map is generated.\n",
        "        retriever: The retriever module to fetch relevant evidences.\n",
        "        ranker: The ranker module to rank and encode evidence.\n",
        "        attn: The attention encoder module to process ranked evidence.\n",
        "        classifier: The classifier module for final prediction.\n",
        "\n",
        "    Returns:\n",
        "        attention_map: The attention map showing attention paid to evidence.\n",
        "        logits: The classifier logits.\n",
        "        evidences: The list of evidence snippets retrieved for the input claim.\n",
        "    \"\"\"\n",
        "    # Convert the input claim to tensor if necessary\n",
        "    if not isinstance(claim, list):\n",
        "        claim = [claim]  # Ensure claim is in list format\n",
        "\n",
        "    # Retrieve top-k evidences using the retriever\n",
        "    scores, indices, evidences = retriever(claim)\n",
        "    print(f\"Retrieved Evidences: {evidences}\")\n",
        "\n",
        "    # Generate embeddings using the ranker\n",
        "    h = ranker(claim, evidences)\n",
        "    print(f\"Ranker Output Shape: {h.shape}, Device: {h.device}\")\n",
        "\n",
        "    # Encode embeddings using the attention encoder\n",
        "    enc_out = attn(h)\n",
        "    attention_map = attn.get_attention_maps(h)\n",
        "    print(f\"Attention Encoder Output Shape: {enc_out.shape}\")\n",
        "\n",
        "    # Perform classification\n",
        "    logits, out = classifier(enc_out[:, 0, :])\n",
        "    print(f\"Classifier Output: {out}, Shape: {out.shape}\")\n",
        "    pred = int(np.argmax(logits.detach().cpu()))\n",
        "    # Return the attention map, logits, and evidences\n",
        "    return attention_map, logits, pred, evidences\n"
      ]
    },
    {
      "cell_type": "code",
      "execution_count": null,
      "metadata": {
        "id": "i6oLb8dGshF1"
      },
      "outputs": [],
      "source": [
        "# claim for evidence retrieved but not a high score given - \"Highly active antiretroviral therapy (HAART) has changed HIV from a fatal disease to a manageable chronic condition for adolescents.\"\n",
        "# supporting claim -\n",
        "# contradicting claim -\n",
        "# ambiguous claim -"
      ]
    },
    {
      "cell_type": "markdown",
      "metadata": {
        "id": "TgGiJ9dytbOt"
      },
      "source": [
        "### Give a claim to the model"
      ]
    },
    {
      "cell_type": "code",
      "execution_count": null,
      "metadata": {
        "colab": {
          "base_uri": "https://localhost:8080/"
        },
        "id": "TliYYfMRnbJh",
        "outputId": "25ef09fe-1ec2-4153-db89-5c9599e54ae9"
      },
      "outputs": [
        {
          "name": "stdout",
          "output_type": "stream",
          "text": [
            "Retrieved Evidences: [['HIV infection, primarily caused by HIV-1 and HIV-2, leads to the progressive destruction of CD4+ T lymphocytes, resulting in significant immunosuppression and increased susceptibility to opportunistic infections and malignancies. The epidemiology of HIV has changed dramatically due to the global response, with antiretroviral therapy (ART) now standard for all diagnosed individuals, transforming HIV from a fatal disease into a manageable chronic condition. As of recent estimates, approximately 37.9 million people live with HIV, with many receiving ART, which has reduced mortality but increased the prevalence of non-communicable diseases, including HIV-associated lipodystrophy. This condition, characterized by abnormal fat distribution, can manifest as lipoatrophy or lipohypertrophy and is often linked to both the virus and the side effects of certain antiretroviral medications. Clinically, it can lead to significant psychosocial distress and complicate HIV management due to its association with metabolic syndrome and cardiovascular risks. Diagnosis involves clinical assessment, patient history, imaging studies, and laboratory tests to evaluate metabolic parameters. The interplay between HIV infection and lipodystrophy highlights the need for comprehensive management strategies that address both virological and metabolic aspects of care, emphasizing the importance of ongoing research to optimize treatment and improve quality of life for affected individuals.', 'The global epidemiology of HIV infection reveals a complex landscape marked by significant regional disparities, particularly in sub-Saharan Africa, which bears the highest burden of the disease. The advent of antiretroviral therapy has dramatically altered the course of the epidemic, transforming HIV from a fatal disease to a manageable chronic condition for many. Despite a decline in new infections and AIDS-related deaths, the overall prevalence of HIV continues to rise due to increased longevity among those receiving treatment. The genetic variability of HIV strains complicates management efforts, necessitating ongoing public health initiatives to address prevention, treatment, and education in the fight against this global health crisis.', 'AIDS-related Kaposi sarcoma (KS) is a low-grade vascular tumor linked to HIV infection and the Kaposi sarcoma-associated herpesvirus (KSHV), presenting a variable clinical course from minimal disease to aggressive neoplasm. Staging follows the AIDS Clinical Trials Group classification, assessing skin lesions, systemic symptoms, and lymphatic or visceral involvement, with prognosis closely tied to CD4 counts. Treatment has evolved with highly active antiretroviral therapy (HAART), reducing KS incidence but still prevalent in regions like sub-Saharan Africa. Management includes HAART, local therapies for limited lesions, and systemic treatments for advanced disease, necessitating a comprehensive approach that integrates oncological and infectious considerations.', 'Adolescents and young adults (AYA) represent a significant portion of the HIV epidemic, accounting for approximately 19% of new diagnoses in the United States. The primary mode of transmission among this age group is sexual contact, highlighting the importance of targeted prevention strategies. Pre-exposure prophylaxis (PrEP) has emerged as a critical intervention for at-risk adolescents, providing a means to significantly reduce the likelihood of HIV acquisition. The clinical management of HIV in adolescents necessitates a nuanced understanding of their unique developmental, psychosocial, and medical needs. Adolescents often face barriers to accessing healthcare, including stigma, lack of confidentiality, and limited health literacy, which can impede timely diagnosis and treatment. \\r\\n\\r\\nThe treatment of HIV in this population typically involves highly active antiretroviral therapy (HAART), which has transformed HIV from a fatal disease to a manageable chronic condition. Adherence to antiretroviral therapy is crucial, yet studies indicate that adolescents may struggle with consistent medication adherence due to various factors, including developmental challenges and psychosocial stressors. Clinical guidelines emphasize the importance of regular monitoring for opportunistic infections and the management of comorbidities, which are particularly relevant given the long-term health implications of living with HIV. \\r\\n\\r\\nFurthermore, the psychosocial aspects of living with HIV in adolescence cannot be overlooked. Adolescents may experience significant mental health challenges, including anxiety and depression, which can affect their overall well-being and treatment adherence. Therefore, a comprehensive approach that includes mental health support, education, and community resources is essential for optimizing health outcomes in adolescents living with HIV. As the landscape of HIV care continues to evolve, ongoing research and adaptation of clinical guidelines will be necessary to address the specific needs of this vulnerable population effectively.', \"HIV infection significantly increases the risk of developing lymphomas, particularly non-Hodgkin lymphoma (NHL), which is a leading cause of cancer-related mortality in this population. The incidence of HIV-related NHL has decreased with the introduction of combination antiretroviral therapy (cART), although Hodgkin lymphoma (HL) cases have risen. HIV-associated lymphomas can be categorized into systemic NHL, primary central nervous system lymphoma (PCNSL), and primary effusion lymphoma, with systemic NHL being the most common. Clinically, these lymphomas present with various symptoms, including lymphadenopathy and neurological deficits, depending on the type and location of the lymphoma. Diagnosis involves a multidisciplinary approach, utilizing clinical assessments, imaging studies, and histopathological evaluations. Staging follows the Ann Arbor classification, considering the extent of disease and the patient's immunological status. The prognosis is influenced by lymphoma type, disease extent, and CD4 counts, necessitating tailored management strategies that integrate oncological and infectious disease considerations.\", 'Efavirenz is a non-nucleoside reverse transcriptase inhibitor (NNRTI) that plays a crucial role in the treatment of human immunodeficiency virus (HIV) infection. Approved by the FDA in 1998, it is primarily utilized in combination with other antiretroviral agents as part of antiretroviral therapy (ART) regimens. The mechanism of action involves the selective inhibition of the reverse transcriptase enzyme, which is essential for the replication of HIV. By binding to the enzyme, Efavirenz prevents the conversion of viral RNA into DNA, thereby reducing the viral load in the body. Clinically, it is indicated for the treatment of HIV-1 infection in adults and children, and it is particularly noted for its once-daily dosing regimen, typically administered at 600 mg orally. However, dosage adjustments may be necessary when co-administered with certain medications, such as rifampin or voriconazole, due to potential drug interactions that can affect the efficacy and safety of treatment.\\n\\nDespite its effectiveness, Efavirenz is associated with a range of potential side effects, some of which can be severe. Common adverse reactions include central nervous system effects such as dizziness, insomnia, and vivid dreams, which may occur shortly after initiation of therapy. More serious risks include psychiatric symptoms, hepatotoxicity, and severe skin reactions, necessitating close monitoring of patients for signs of these complications. It is contraindicated in individuals with a history of hypersensitivity to the drug or its components, and caution is advised in patients with a history of mental health disorders. Regular follow-up and laboratory monitoring are essential to ensure the safe and effective use of Efavirenz in managing HIV infection.', 'The primary care management of adults living with HIV has evolved significantly, focusing on a patient-centered approach that integrates multidisciplinary care teams and innovative strategies such as telehealth. With advancements in antiretroviral therapy (ART), individuals with HIV can expect a near-normal life expectancy, necessitating a comprehensive approach to health maintenance and comorbidity management. Routine monitoring of viral load and CD4 counts, adherence to ART, and screening for opportunistic infections and chronic conditions are essential components of care. Regular immunizations and cancer screenings tailored to individual risk factors are also critical. The guidelines emphasize the importance of creating a stigma-free environment to enhance care engagement and reduce barriers to access. Overall, effective primary care for HIV-infected adults requires a holistic, evidence-based strategy that addresses both medical and psychosocial needs.', \"HIV infection significantly increases the risk of cardiovascular disease (CVD), with individuals living with HIV facing a 1.5 to 2-fold higher risk compared to the general population. This elevated risk persists despite effective antiretroviral therapy (ART), which has transformed HIV into a manageable chronic illness. Chronic inflammation, endothelial dysfunction, and metabolic abnormalities are key factors contributing to this increased cardiovascular risk. Prolonged ART may lead to vascular dysfunction due to mitochondrial dysregulation and genomic instability, potentially accelerating endothelial aging. Early recognition of cardiac abnormalities in HIV-infected individuals predates the virus's characterization, indicating a long-standing awareness of this issue. Recent studies also suggest an increased risk of acute myocardial infarction (AMI) among HIV patients, although details regarding in-hospital outcomes remain unclear. Ongoing research aims to elucidate the mechanisms linking HIV and cardiovascular health, emphasizing the need for targeted interventions to mitigate cardiovascular risk in this population.\", 'Myopericardial disease and associated cardiac and vascular complications in HIV-infected patients represent a significant area of concern in contemporary medical practice, particularly as the widespread use of antiretroviral therapy (ART) has transformed HIV from a fatal disease into a manageable chronic condition. Despite the advancements in treatment, individuals living with HIV (PLWH) exhibit a markedly elevated risk for cardiovascular diseases (CVDs), including atherosclerotic coronary artery disease (ASCAD), heart failure, and arrhythmias. The pathophysiology underlying these conditions is multifactorial, involving direct viral effects on cardiac tissue, chronic inflammation, and traditional cardiovascular risk factors that are often exacerbated in this population. Notably, HIV-associated cardiomyopathy has emerged as a significant contributor to morbidity and mortality, with studies indicating that HIV-infected individuals are at a higher risk for sudden cardiac death compared to the general population. The clinical manifestations of myopericardial disease in this context can include pericarditis and pericardial effusion, often linked to opportunistic infections such as tuberculosis, which is prevalent in co-infected patients. Diagnostic challenges persist, as traditional biomarkers may not accurately reflect cardiac dysfunction in HIV-infected individuals. Furthermore, the evolving landscape of ART has raised concerns regarding the potential cardiotoxic effects of certain regimens, necessitating ongoing research to delineate the complex interplay between HIV, ART, and cardiovascular health. As the population of PLWH ages, the need for comprehensive cardiovascular risk assessment and management strategies becomes increasingly critical to improve outcomes and quality of life in this vulnerable group.', \"The prevention of opportunistic infections in HIV-infected patients is a critical aspect of managing HIV, particularly as these infections can significantly impact morbidity and mortality in this population. The guidelines for prevention and treatment are regularly updated to reflect the latest research and clinical practices. Key strategies include the use of highly active antiretroviral therapy (HAART), which has been instrumental in reducing the incidence of opportunistic infections by maintaining immune function and viral suppression. Prophylactic measures are tailored based on the patient's CD4 cell count, with specific recommendations for various infections such as Pneumocystis pneumonia, toxoplasmosis, and candidiasis. For instance, patients with a CD4 count below 200 cells/mm³ are advised to receive prophylaxis against Pneumocystis pneumonia, typically with trimethoprim-sulfamethoxazole. Additionally, the guidelines emphasize the importance of regular screening for infections and the timely initiation of prophylactic treatments, which may include antifungal agents for those at risk of cryptococcal disease or isavuconazole for coccidioidomycosis. The emergence of co-infections, such as HIV and COVID-19, has further complicated management, necessitating a nuanced approach to care that considers the increased risk of severe outcomes in these patients. Overall, a comprehensive strategy that includes ART adherence, prophylaxis, and regular monitoring is essential for preventing opportunistic infections and improving health outcomes in individuals living with HIV.\"]]\n",
            "Ranker Output Shape: torch.Size([1, 11, 768]), Device: cuda:0\n",
            "Attention Encoder Output Shape: torch.Size([1, 11, 768])\n",
            "Classifier Output: tensor([[7.3517e-01, 2.6445e-01, 3.8130e-04]], device='cuda:0',\n",
            "       grad_fn=<SoftmaxBackward0>), Shape: torch.Size([1, 3])\n"
          ]
        }
      ],
      "source": [
        "# Example usage:\n",
        "# Assume retriever, ranker, attn, and classifier are initialized\n",
        "claim = \"Highly active antiretroviral therapy (HAART) has changed HIV from a fatal disease to a manageable chronic condition for adolescents.\"\n",
        "attention_map, logits, pred, evidences = get_attention_map(model, claim, model.retriever, model.ranker, model.attn, model.classifier)"
      ]
    },
    {
      "cell_type": "code",
      "execution_count": null,
      "metadata": {
        "id": "pBHLie9CAM_h"
      },
      "outputs": [],
      "source": [
        "import matplotlib.pyplot as plt\n",
        "import numpy as np\n",
        "\n",
        "def draw_attention_map(attention_matrix, labels=None, title=\"Attention Correlation Map\"):\n",
        "    \"\"\"\n",
        "    Draws an attention correlation map.\n",
        "\n",
        "    Args:\n",
        "        attention_matrix (np.ndarray): The attention matrix of shape (n, n).\n",
        "        labels (list): Optional, list of labels for the rows and columns.\n",
        "        title (str): Title of the plot.\n",
        "    \"\"\"\n",
        "    if attention_matrix.shape[0] != attention_matrix.shape[1]:\n",
        "        raise ValueError(\"Attention matrix must be square (n x n).\")\n",
        "\n",
        "    n = attention_matrix.shape[0]\n",
        "\n",
        "    # Create the plot\n",
        "    plt.figure(figsize=(8, 6))\n",
        "    plt.imshow(attention_matrix, cmap=\"viridis\", interpolation=\"nearest\")\n",
        "\n",
        "    # Add colorbar\n",
        "    plt.colorbar(label=\"Attention Weight\")\n",
        "\n",
        "    # Add labels to rows and columns\n",
        "    if labels is not None:\n",
        "        if len(labels) != n:\n",
        "            raise ValueError(\"Labels must have the same length as the dimensions of the matrix.\")\n",
        "        plt.xticks(ticks=np.arange(n), labels=labels, rotation=90)\n",
        "        plt.yticks(ticks=np.arange(n), labels=labels)\n",
        "    else:\n",
        "        plt.xticks(ticks=np.arange(n))\n",
        "        plt.yticks(ticks=np.arange(n))\n",
        "\n",
        "    # Add title and adjust layout\n",
        "    plt.title(title)\n",
        "    plt.xlabel(\"Query/Key Positions\")\n",
        "    plt.ylabel(\"Query/Key Positions\")\n",
        "    plt.tight_layout()\n",
        "    plt.show()"
      ]
    },
    {
      "cell_type": "code",
      "execution_count": null,
      "metadata": {
        "colab": {
          "base_uri": "https://localhost:8080/"
        },
        "id": "hq7aLfELC8zX",
        "outputId": "4dccc707-a325-47aa-c31c-2d2ac443bfe1"
      },
      "outputs": [
        {
          "data": {
            "text/plain": [
              "(0,\n",
              " tensor([[ 3.4453,  2.4228, -4.1190]], device='cuda:0',\n",
              "        grad_fn=<AddmmBackward0>),\n",
              " [['HIV infection, primarily caused by HIV-1 and HIV-2, leads to the progressive destruction of CD4+ T lymphocytes, resulting in significant immunosuppression and increased susceptibility to opportunistic infections and malignancies. The epidemiology of HIV has changed dramatically due to the global response, with antiretroviral therapy (ART) now standard for all diagnosed individuals, transforming HIV from a fatal disease into a manageable chronic condition. As of recent estimates, approximately 37.9 million people live with HIV, with many receiving ART, which has reduced mortality but increased the prevalence of non-communicable diseases, including HIV-associated lipodystrophy. This condition, characterized by abnormal fat distribution, can manifest as lipoatrophy or lipohypertrophy and is often linked to both the virus and the side effects of certain antiretroviral medications. Clinically, it can lead to significant psychosocial distress and complicate HIV management due to its association with metabolic syndrome and cardiovascular risks. Diagnosis involves clinical assessment, patient history, imaging studies, and laboratory tests to evaluate metabolic parameters. The interplay between HIV infection and lipodystrophy highlights the need for comprehensive management strategies that address both virological and metabolic aspects of care, emphasizing the importance of ongoing research to optimize treatment and improve quality of life for affected individuals.',\n",
              "   'The global epidemiology of HIV infection reveals a complex landscape marked by significant regional disparities, particularly in sub-Saharan Africa, which bears the highest burden of the disease. The advent of antiretroviral therapy has dramatically altered the course of the epidemic, transforming HIV from a fatal disease to a manageable chronic condition for many. Despite a decline in new infections and AIDS-related deaths, the overall prevalence of HIV continues to rise due to increased longevity among those receiving treatment. The genetic variability of HIV strains complicates management efforts, necessitating ongoing public health initiatives to address prevention, treatment, and education in the fight against this global health crisis.',\n",
              "   'AIDS-related Kaposi sarcoma (KS) is a low-grade vascular tumor linked to HIV infection and the Kaposi sarcoma-associated herpesvirus (KSHV), presenting a variable clinical course from minimal disease to aggressive neoplasm. Staging follows the AIDS Clinical Trials Group classification, assessing skin lesions, systemic symptoms, and lymphatic or visceral involvement, with prognosis closely tied to CD4 counts. Treatment has evolved with highly active antiretroviral therapy (HAART), reducing KS incidence but still prevalent in regions like sub-Saharan Africa. Management includes HAART, local therapies for limited lesions, and systemic treatments for advanced disease, necessitating a comprehensive approach that integrates oncological and infectious considerations.',\n",
              "   'Adolescents and young adults (AYA) represent a significant portion of the HIV epidemic, accounting for approximately 19% of new diagnoses in the United States. The primary mode of transmission among this age group is sexual contact, highlighting the importance of targeted prevention strategies. Pre-exposure prophylaxis (PrEP) has emerged as a critical intervention for at-risk adolescents, providing a means to significantly reduce the likelihood of HIV acquisition. The clinical management of HIV in adolescents necessitates a nuanced understanding of their unique developmental, psychosocial, and medical needs. Adolescents often face barriers to accessing healthcare, including stigma, lack of confidentiality, and limited health literacy, which can impede timely diagnosis and treatment. \\r\\n\\r\\nThe treatment of HIV in this population typically involves highly active antiretroviral therapy (HAART), which has transformed HIV from a fatal disease to a manageable chronic condition. Adherence to antiretroviral therapy is crucial, yet studies indicate that adolescents may struggle with consistent medication adherence due to various factors, including developmental challenges and psychosocial stressors. Clinical guidelines emphasize the importance of regular monitoring for opportunistic infections and the management of comorbidities, which are particularly relevant given the long-term health implications of living with HIV. \\r\\n\\r\\nFurthermore, the psychosocial aspects of living with HIV in adolescence cannot be overlooked. Adolescents may experience significant mental health challenges, including anxiety and depression, which can affect their overall well-being and treatment adherence. Therefore, a comprehensive approach that includes mental health support, education, and community resources is essential for optimizing health outcomes in adolescents living with HIV. As the landscape of HIV care continues to evolve, ongoing research and adaptation of clinical guidelines will be necessary to address the specific needs of this vulnerable population effectively.',\n",
              "   \"HIV infection significantly increases the risk of developing lymphomas, particularly non-Hodgkin lymphoma (NHL), which is a leading cause of cancer-related mortality in this population. The incidence of HIV-related NHL has decreased with the introduction of combination antiretroviral therapy (cART), although Hodgkin lymphoma (HL) cases have risen. HIV-associated lymphomas can be categorized into systemic NHL, primary central nervous system lymphoma (PCNSL), and primary effusion lymphoma, with systemic NHL being the most common. Clinically, these lymphomas present with various symptoms, including lymphadenopathy and neurological deficits, depending on the type and location of the lymphoma. Diagnosis involves a multidisciplinary approach, utilizing clinical assessments, imaging studies, and histopathological evaluations. Staging follows the Ann Arbor classification, considering the extent of disease and the patient's immunological status. The prognosis is influenced by lymphoma type, disease extent, and CD4 counts, necessitating tailored management strategies that integrate oncological and infectious disease considerations.\",\n",
              "   'Efavirenz is a non-nucleoside reverse transcriptase inhibitor (NNRTI) that plays a crucial role in the treatment of human immunodeficiency virus (HIV) infection. Approved by the FDA in 1998, it is primarily utilized in combination with other antiretroviral agents as part of antiretroviral therapy (ART) regimens. The mechanism of action involves the selective inhibition of the reverse transcriptase enzyme, which is essential for the replication of HIV. By binding to the enzyme, Efavirenz prevents the conversion of viral RNA into DNA, thereby reducing the viral load in the body. Clinically, it is indicated for the treatment of HIV-1 infection in adults and children, and it is particularly noted for its once-daily dosing regimen, typically administered at 600 mg orally. However, dosage adjustments may be necessary when co-administered with certain medications, such as rifampin or voriconazole, due to potential drug interactions that can affect the efficacy and safety of treatment.\\n\\nDespite its effectiveness, Efavirenz is associated with a range of potential side effects, some of which can be severe. Common adverse reactions include central nervous system effects such as dizziness, insomnia, and vivid dreams, which may occur shortly after initiation of therapy. More serious risks include psychiatric symptoms, hepatotoxicity, and severe skin reactions, necessitating close monitoring of patients for signs of these complications. It is contraindicated in individuals with a history of hypersensitivity to the drug or its components, and caution is advised in patients with a history of mental health disorders. Regular follow-up and laboratory monitoring are essential to ensure the safe and effective use of Efavirenz in managing HIV infection.',\n",
              "   'The primary care management of adults living with HIV has evolved significantly, focusing on a patient-centered approach that integrates multidisciplinary care teams and innovative strategies such as telehealth. With advancements in antiretroviral therapy (ART), individuals with HIV can expect a near-normal life expectancy, necessitating a comprehensive approach to health maintenance and comorbidity management. Routine monitoring of viral load and CD4 counts, adherence to ART, and screening for opportunistic infections and chronic conditions are essential components of care. Regular immunizations and cancer screenings tailored to individual risk factors are also critical. The guidelines emphasize the importance of creating a stigma-free environment to enhance care engagement and reduce barriers to access. Overall, effective primary care for HIV-infected adults requires a holistic, evidence-based strategy that addresses both medical and psychosocial needs.',\n",
              "   \"HIV infection significantly increases the risk of cardiovascular disease (CVD), with individuals living with HIV facing a 1.5 to 2-fold higher risk compared to the general population. This elevated risk persists despite effective antiretroviral therapy (ART), which has transformed HIV into a manageable chronic illness. Chronic inflammation, endothelial dysfunction, and metabolic abnormalities are key factors contributing to this increased cardiovascular risk. Prolonged ART may lead to vascular dysfunction due to mitochondrial dysregulation and genomic instability, potentially accelerating endothelial aging. Early recognition of cardiac abnormalities in HIV-infected individuals predates the virus's characterization, indicating a long-standing awareness of this issue. Recent studies also suggest an increased risk of acute myocardial infarction (AMI) among HIV patients, although details regarding in-hospital outcomes remain unclear. Ongoing research aims to elucidate the mechanisms linking HIV and cardiovascular health, emphasizing the need for targeted interventions to mitigate cardiovascular risk in this population.\",\n",
              "   'Myopericardial disease and associated cardiac and vascular complications in HIV-infected patients represent a significant area of concern in contemporary medical practice, particularly as the widespread use of antiretroviral therapy (ART) has transformed HIV from a fatal disease into a manageable chronic condition. Despite the advancements in treatment, individuals living with HIV (PLWH) exhibit a markedly elevated risk for cardiovascular diseases (CVDs), including atherosclerotic coronary artery disease (ASCAD), heart failure, and arrhythmias. The pathophysiology underlying these conditions is multifactorial, involving direct viral effects on cardiac tissue, chronic inflammation, and traditional cardiovascular risk factors that are often exacerbated in this population. Notably, HIV-associated cardiomyopathy has emerged as a significant contributor to morbidity and mortality, with studies indicating that HIV-infected individuals are at a higher risk for sudden cardiac death compared to the general population. The clinical manifestations of myopericardial disease in this context can include pericarditis and pericardial effusion, often linked to opportunistic infections such as tuberculosis, which is prevalent in co-infected patients. Diagnostic challenges persist, as traditional biomarkers may not accurately reflect cardiac dysfunction in HIV-infected individuals. Furthermore, the evolving landscape of ART has raised concerns regarding the potential cardiotoxic effects of certain regimens, necessitating ongoing research to delineate the complex interplay between HIV, ART, and cardiovascular health. As the population of PLWH ages, the need for comprehensive cardiovascular risk assessment and management strategies becomes increasingly critical to improve outcomes and quality of life in this vulnerable group.',\n",
              "   \"The prevention of opportunistic infections in HIV-infected patients is a critical aspect of managing HIV, particularly as these infections can significantly impact morbidity and mortality in this population. The guidelines for prevention and treatment are regularly updated to reflect the latest research and clinical practices. Key strategies include the use of highly active antiretroviral therapy (HAART), which has been instrumental in reducing the incidence of opportunistic infections by maintaining immune function and viral suppression. Prophylactic measures are tailored based on the patient's CD4 cell count, with specific recommendations for various infections such as Pneumocystis pneumonia, toxoplasmosis, and candidiasis. For instance, patients with a CD4 count below 200 cells/mm³ are advised to receive prophylaxis against Pneumocystis pneumonia, typically with trimethoprim-sulfamethoxazole. Additionally, the guidelines emphasize the importance of regular screening for infections and the timely initiation of prophylactic treatments, which may include antifungal agents for those at risk of cryptococcal disease or isavuconazole for coccidioidomycosis. The emergence of co-infections, such as HIV and COVID-19, has further complicated management, necessitating a nuanced approach to care that considers the increased risk of severe outcomes in these patients. Overall, a comprehensive strategy that includes ART adherence, prophylaxis, and regular monitoring is essential for preventing opportunistic infections and improving health outcomes in individuals living with HIV.\"]])"
            ]
          },
          "execution_count": 83,
          "metadata": {},
          "output_type": "execute_result"
        }
      ],
      "source": [
        "pred, logits, evidences"
      ]
    },
    {
      "cell_type": "markdown",
      "metadata": {
        "id": "zYIqHY43tk1V"
      },
      "source": [
        "### Sort evidences by attention scores"
      ]
    },
    {
      "cell_type": "code",
      "execution_count": null,
      "metadata": {
        "id": "BmOSyJ0uBVgz"
      },
      "outputs": [],
      "source": [
        "def sort_evidences_by_scores(scores, evidences):\n",
        "    \"\"\"\n",
        "    Sorts a list of evidences based on their corresponding scores in descending order.\n",
        "\n",
        "    Args:\n",
        "        scores (list of float): A list of numeric scores.\n",
        "        evidences (list of str): A list of evidences corresponding to the scores.\n",
        "\n",
        "    Returns:\n",
        "        list of tuple: A sorted list of tuples where each tuple contains (evidence, score),\n",
        "                       sorted by scores in descending order.\n",
        "    \"\"\"\n",
        "    if len(scores) != len(evidences):\n",
        "        raise ValueError(\"The number of scores must match the number of evidences.\")\n",
        "\n",
        "    # Combine scores and evidences into tuples and sort by scores in descending order\n",
        "    sorted_evidences = sorted(zip(scores, evidences), key=lambda x: x[0], reverse=True)\n",
        "\n",
        "    return [(evidence, score) for score, evidence in sorted_evidences]"
      ]
    },
    {
      "cell_type": "code",
      "execution_count": null,
      "metadata": {
        "colab": {
          "base_uri": "https://localhost:8080/"
        },
        "id": "3juqsvZXBTlV",
        "outputId": "79f6a966-f2e7-405c-eab4-dcace89638b1"
      },
      "outputs": [
        {
          "data": {
            "text/plain": [
              "[('HIV infection, primarily caused by HIV-1 and HIV-2, leads to the progressive destruction of CD4+ T lymphocytes, resulting in significant immunosuppression and increased susceptibility to opportunistic infections and malignancies. The epidemiology of HIV has changed dramatically due to the global response, with antiretroviral therapy (ART) now standard for all diagnosed individuals, transforming HIV from a fatal disease into a manageable chronic condition. As of recent estimates, approximately 37.9 million people live with HIV, with many receiving ART, which has reduced mortality but increased the prevalence of non-communicable diseases, including HIV-associated lipodystrophy. This condition, characterized by abnormal fat distribution, can manifest as lipoatrophy or lipohypertrophy and is often linked to both the virus and the side effects of certain antiretroviral medications. Clinically, it can lead to significant psychosocial distress and complicate HIV management due to its association with metabolic syndrome and cardiovascular risks. Diagnosis involves clinical assessment, patient history, imaging studies, and laboratory tests to evaluate metabolic parameters. The interplay between HIV infection and lipodystrophy highlights the need for comprehensive management strategies that address both virological and metabolic aspects of care, emphasizing the importance of ongoing research to optimize treatment and improve quality of life for affected individuals.',\n",
              "  0.16896512),\n",
              " ('The global epidemiology of HIV infection reveals a complex landscape marked by significant regional disparities, particularly in sub-Saharan Africa, which bears the highest burden of the disease. The advent of antiretroviral therapy has dramatically altered the course of the epidemic, transforming HIV from a fatal disease to a manageable chronic condition for many. Despite a decline in new infections and AIDS-related deaths, the overall prevalence of HIV continues to rise due to increased longevity among those receiving treatment. The genetic variability of HIV strains complicates management efforts, necessitating ongoing public health initiatives to address prevention, treatment, and education in the fight against this global health crisis.',\n",
              "  0.1420087),\n",
              " ('AIDS-related Kaposi sarcoma (KS) is a low-grade vascular tumor linked to HIV infection and the Kaposi sarcoma-associated herpesvirus (KSHV), presenting a variable clinical course from minimal disease to aggressive neoplasm. Staging follows the AIDS Clinical Trials Group classification, assessing skin lesions, systemic symptoms, and lymphatic or visceral involvement, with prognosis closely tied to CD4 counts. Treatment has evolved with highly active antiretroviral therapy (HAART), reducing KS incidence but still prevalent in regions like sub-Saharan Africa. Management includes HAART, local therapies for limited lesions, and systemic treatments for advanced disease, necessitating a comprehensive approach that integrates oncological and infectious considerations.',\n",
              "  0.11144956),\n",
              " ('Myopericardial disease and associated cardiac and vascular complications in HIV-infected patients represent a significant area of concern in contemporary medical practice, particularly as the widespread use of antiretroviral therapy (ART) has transformed HIV from a fatal disease into a manageable chronic condition. Despite the advancements in treatment, individuals living with HIV (PLWH) exhibit a markedly elevated risk for cardiovascular diseases (CVDs), including atherosclerotic coronary artery disease (ASCAD), heart failure, and arrhythmias. The pathophysiology underlying these conditions is multifactorial, involving direct viral effects on cardiac tissue, chronic inflammation, and traditional cardiovascular risk factors that are often exacerbated in this population. Notably, HIV-associated cardiomyopathy has emerged as a significant contributor to morbidity and mortality, with studies indicating that HIV-infected individuals are at a higher risk for sudden cardiac death compared to the general population. The clinical manifestations of myopericardial disease in this context can include pericarditis and pericardial effusion, often linked to opportunistic infections such as tuberculosis, which is prevalent in co-infected patients. Diagnostic challenges persist, as traditional biomarkers may not accurately reflect cardiac dysfunction in HIV-infected individuals. Furthermore, the evolving landscape of ART has raised concerns regarding the potential cardiotoxic effects of certain regimens, necessitating ongoing research to delineate the complex interplay between HIV, ART, and cardiovascular health. As the population of PLWH ages, the need for comprehensive cardiovascular risk assessment and management strategies becomes increasingly critical to improve outcomes and quality of life in this vulnerable group.',\n",
              "  0.10551281),\n",
              " (\"HIV infection significantly increases the risk of cardiovascular disease (CVD), with individuals living with HIV facing a 1.5 to 2-fold higher risk compared to the general population. This elevated risk persists despite effective antiretroviral therapy (ART), which has transformed HIV into a manageable chronic illness. Chronic inflammation, endothelial dysfunction, and metabolic abnormalities are key factors contributing to this increased cardiovascular risk. Prolonged ART may lead to vascular dysfunction due to mitochondrial dysregulation and genomic instability, potentially accelerating endothelial aging. Early recognition of cardiac abnormalities in HIV-infected individuals predates the virus's characterization, indicating a long-standing awareness of this issue. Recent studies also suggest an increased risk of acute myocardial infarction (AMI) among HIV patients, although details regarding in-hospital outcomes remain unclear. Ongoing research aims to elucidate the mechanisms linking HIV and cardiovascular health, emphasizing the need for targeted interventions to mitigate cardiovascular risk in this population.\",\n",
              "  0.104466304),\n",
              " ('The primary care management of adults living with HIV has evolved significantly, focusing on a patient-centered approach that integrates multidisciplinary care teams and innovative strategies such as telehealth. With advancements in antiretroviral therapy (ART), individuals with HIV can expect a near-normal life expectancy, necessitating a comprehensive approach to health maintenance and comorbidity management. Routine monitoring of viral load and CD4 counts, adherence to ART, and screening for opportunistic infections and chronic conditions are essential components of care. Regular immunizations and cancer screenings tailored to individual risk factors are also critical. The guidelines emphasize the importance of creating a stigma-free environment to enhance care engagement and reduce barriers to access. Overall, effective primary care for HIV-infected adults requires a holistic, evidence-based strategy that addresses both medical and psychosocial needs.',\n",
              "  0.08679644),\n",
              " ('Efavirenz is a non-nucleoside reverse transcriptase inhibitor (NNRTI) that plays a crucial role in the treatment of human immunodeficiency virus (HIV) infection. Approved by the FDA in 1998, it is primarily utilized in combination with other antiretroviral agents as part of antiretroviral therapy (ART) regimens. The mechanism of action involves the selective inhibition of the reverse transcriptase enzyme, which is essential for the replication of HIV. By binding to the enzyme, Efavirenz prevents the conversion of viral RNA into DNA, thereby reducing the viral load in the body. Clinically, it is indicated for the treatment of HIV-1 infection in adults and children, and it is particularly noted for its once-daily dosing regimen, typically administered at 600 mg orally. However, dosage adjustments may be necessary when co-administered with certain medications, such as rifampin or voriconazole, due to potential drug interactions that can affect the efficacy and safety of treatment.\\n\\nDespite its effectiveness, Efavirenz is associated with a range of potential side effects, some of which can be severe. Common adverse reactions include central nervous system effects such as dizziness, insomnia, and vivid dreams, which may occur shortly after initiation of therapy. More serious risks include psychiatric symptoms, hepatotoxicity, and severe skin reactions, necessitating close monitoring of patients for signs of these complications. It is contraindicated in individuals with a history of hypersensitivity to the drug or its components, and caution is advised in patients with a history of mental health disorders. Regular follow-up and laboratory monitoring are essential to ensure the safe and effective use of Efavirenz in managing HIV infection.',\n",
              "  0.0863284),\n",
              " (\"The prevention of opportunistic infections in HIV-infected patients is a critical aspect of managing HIV, particularly as these infections can significantly impact morbidity and mortality in this population. The guidelines for prevention and treatment are regularly updated to reflect the latest research and clinical practices. Key strategies include the use of highly active antiretroviral therapy (HAART), which has been instrumental in reducing the incidence of opportunistic infections by maintaining immune function and viral suppression. Prophylactic measures are tailored based on the patient's CD4 cell count, with specific recommendations for various infections such as Pneumocystis pneumonia, toxoplasmosis, and candidiasis. For instance, patients with a CD4 count below 200 cells/mm³ are advised to receive prophylaxis against Pneumocystis pneumonia, typically with trimethoprim-sulfamethoxazole. Additionally, the guidelines emphasize the importance of regular screening for infections and the timely initiation of prophylactic treatments, which may include antifungal agents for those at risk of cryptococcal disease or isavuconazole for coccidioidomycosis. The emergence of co-infections, such as HIV and COVID-19, has further complicated management, necessitating a nuanced approach to care that considers the increased risk of severe outcomes in these patients. Overall, a comprehensive strategy that includes ART adherence, prophylaxis, and regular monitoring is essential for preventing opportunistic infections and improving health outcomes in individuals living with HIV.\",\n",
              "  0.07357828),\n",
              " (\"HIV infection significantly increases the risk of developing lymphomas, particularly non-Hodgkin lymphoma (NHL), which is a leading cause of cancer-related mortality in this population. The incidence of HIV-related NHL has decreased with the introduction of combination antiretroviral therapy (cART), although Hodgkin lymphoma (HL) cases have risen. HIV-associated lymphomas can be categorized into systemic NHL, primary central nervous system lymphoma (PCNSL), and primary effusion lymphoma, with systemic NHL being the most common. Clinically, these lymphomas present with various symptoms, including lymphadenopathy and neurological deficits, depending on the type and location of the lymphoma. Diagnosis involves a multidisciplinary approach, utilizing clinical assessments, imaging studies, and histopathological evaluations. Staging follows the Ann Arbor classification, considering the extent of disease and the patient's immunological status. The prognosis is influenced by lymphoma type, disease extent, and CD4 counts, necessitating tailored management strategies that integrate oncological and infectious disease considerations.\",\n",
              "  0.06356726),\n",
              " ('Adolescents and young adults (AYA) represent a significant portion of the HIV epidemic, accounting for approximately 19% of new diagnoses in the United States. The primary mode of transmission among this age group is sexual contact, highlighting the importance of targeted prevention strategies. Pre-exposure prophylaxis (PrEP) has emerged as a critical intervention for at-risk adolescents, providing a means to significantly reduce the likelihood of HIV acquisition. The clinical management of HIV in adolescents necessitates a nuanced understanding of their unique developmental, psychosocial, and medical needs. Adolescents often face barriers to accessing healthcare, including stigma, lack of confidentiality, and limited health literacy, which can impede timely diagnosis and treatment. \\r\\n\\r\\nThe treatment of HIV in this population typically involves highly active antiretroviral therapy (HAART), which has transformed HIV from a fatal disease to a manageable chronic condition. Adherence to antiretroviral therapy is crucial, yet studies indicate that adolescents may struggle with consistent medication adherence due to various factors, including developmental challenges and psychosocial stressors. Clinical guidelines emphasize the importance of regular monitoring for opportunistic infections and the management of comorbidities, which are particularly relevant given the long-term health implications of living with HIV. \\r\\n\\r\\nFurthermore, the psychosocial aspects of living with HIV in adolescence cannot be overlooked. Adolescents may experience significant mental health challenges, including anxiety and depression, which can affect their overall well-being and treatment adherence. Therefore, a comprehensive approach that includes mental health support, education, and community resources is essential for optimizing health outcomes in adolescents living with HIV. As the landscape of HIV care continues to evolve, ongoing research and adaptation of clinical guidelines will be necessary to address the specific needs of this vulnerable population effectively.',\n",
              "  0.05686358)]"
            ]
          },
          "execution_count": 87,
          "metadata": {},
          "output_type": "execute_result"
        }
      ],
      "source": [
        "sort_evidences_by_scores(attention_map[0][0][0].detach().cpu().numpy()[1:], evidences[0])"
      ]
    },
    {
      "cell_type": "markdown",
      "metadata": {
        "id": "nzpRmcpr6Eig"
      },
      "source": [
        "### Rough Work Here"
      ]
    },
    {
      "cell_type": "code",
      "execution_count": null,
      "metadata": {
        "id": "OqcU3Oux6Eig"
      },
      "outputs": [],
      "source": [
        "loss = nn.CrossEntropyLoss()"
      ]
    },
    {
      "cell_type": "code",
      "execution_count": null,
      "metadata": {
        "id": "_Y--_6bF6Eih",
        "outputId": "c57d26e4-8e23-460a-ea3a-cecd21699756"
      },
      "outputs": [
        {
          "data": {
            "text/plain": [
              "tensor(1.8620)"
            ]
          },
          "execution_count": 13,
          "metadata": {},
          "output_type": "execute_result"
        }
      ],
      "source": [
        "loss(torch.tensor([1, 0, 1], dtype=torch.float32), torch.tensor([0, 1, 0], dtype=torch.float32))"
      ]
    },
    {
      "cell_type": "code",
      "execution_count": null,
      "metadata": {
        "colab": {
          "base_uri": "https://localhost:8080/"
        },
        "id": "SgU0m2-t6Eih",
        "outputId": "514baf36-1b32-466e-f4f9-67a3747f9748"
      },
      "outputs": [
        {
          "name": "stdout",
          "output_type": "stream",
          "text": [
            "Loss: 0.2729603350162506\n"
          ]
        }
      ],
      "source": [
        "import torch\n",
        "import torch.nn as nn\n",
        "\n",
        "# Define CrossEntropyLoss\n",
        "criterion = nn.CrossEntropyLoss()\n",
        "\n",
        "# Predictions (logits): Shape (N, C)\n",
        "logits = torch.tensor([[2.50, 1.0, 0.1]])  # Batch of size 1, 3 classes\n",
        "\n",
        "# Target labels: Shape (N)\n",
        "targets = torch.tensor([0])  # Class 0 is the correct label\n",
        "\n",
        "# Compute loss\n",
        "loss = criterion(logits, targets)\n",
        "print(f\"Loss: {loss.item()}\")"
      ]
    },
    {
      "cell_type": "code",
      "execution_count": null,
      "metadata": {
        "id": "R26kGApk6Eih"
      },
      "outputs": [],
      "source": []
    }
  ],
  "metadata": {
    "accelerator": "GPU",
    "colab": {
      "gpuType": "T4",
      "provenance": []
    },
    "kernelspec": {
      "display_name": "Python 3",
      "name": "python3"
    },
    "language_info": {
      "codemirror_mode": {
        "name": "ipython",
        "version": 3
      },
      "file_extension": ".py",
      "mimetype": "text/x-python",
      "name": "python",
      "nbconvert_exporter": "python",
      "pygments_lexer": "ipython3",
      "version": "3.12.2"
    }
  },
  "nbformat": 4,
  "nbformat_minor": 0
}
